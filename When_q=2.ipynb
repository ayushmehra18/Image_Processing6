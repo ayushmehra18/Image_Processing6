{
 "cells": [
  {
   "cell_type": "code",
   "execution_count": 1,
   "id": "worse-christianity",
   "metadata": {},
   "outputs": [],
   "source": [
    "# To import various libraries\n",
    "\n",
    "import math\n",
    "import numpy as np\n",
    "import cv2\n",
    "from PIL import Image\n",
    "import scipy.io\n",
    "mat = scipy.io.loadmat('stack.mat')"
   ]
  },
  {
   "cell_type": "code",
   "execution_count": 2,
   "id": "dynamic-violence",
   "metadata": {},
   "outputs": [],
   "source": [
    "# To store all the frames in a list 'a'\n",
    "\n",
    "a=[]\n",
    "for i in range(1,101):\n",
    "    if i<10:\n",
    "        a.append(mat[f'frame00{i}'])\n",
    "    if i >9 and i<100:\n",
    "        a.append(mat[f'frame0{i}'])\n",
    "    if i == 100:\n",
    "        a.append(mat[f'frame{i}'])"
   ]
  },
  {
   "cell_type": "code",
   "execution_count": 3,
   "id": "satisfied-julian",
   "metadata": {},
   "outputs": [
    {
     "name": "stdout",
     "output_type": "stream",
     "text": [
      "115 115\n"
     ]
    }
   ],
   "source": [
    "# To determine shape of a frame\n",
    "\n",
    "A,B=a[20].shape\n",
    "print(A,B)"
   ]
  },
  {
   "cell_type": "code",
   "execution_count": 4,
   "id": "grateful-translation",
   "metadata": {},
   "outputs": [
    {
     "data": {
      "text/plain": [
       "array([[ 0,  0,  0],\n",
       "       [ 1, -2,  1],\n",
       "       [ 0,  0,  0]])"
      ]
     },
     "execution_count": 4,
     "metadata": {},
     "output_type": "execute_result"
    }
   ],
   "source": [
    "# Kernel 1\n",
    "\n",
    "fxx=np.array([[0,0,0],[1,-2,1],[0,0,0]])\n",
    "fxx"
   ]
  },
  {
   "cell_type": "code",
   "execution_count": 5,
   "id": "cutting-controversy",
   "metadata": {},
   "outputs": [],
   "source": [
    "# Convolution between all frames in list 'a' and kernel 1.\n",
    "# Storing the new frames after convolution in list 'b'\n",
    "\n",
    "b=[]\n",
    "for m in range(0,100):\n",
    "    image_padded = np.zeros((A+2, B+2))\n",
    "    image_padded[1:-1,1:-1] = a[m]\n",
    "\n",
    "    f = np.zeros((9))\n",
    "    g = np.zeros((A+2,B+2))\n",
    "    H = fxx.reshape((9,1))\n",
    "    for i in range(1,((A+2)-1)):\n",
    "        for j in range(1,((B+2)-1)):\n",
    "            c=0\n",
    "            for x in range (i-1,i+1+1):\n",
    "                for y in range (j-1,j+1+1):\n",
    "                    f[c] = image_padded[x,y]\n",
    "                    c=c+1\n",
    "            g[i,j] = np.dot(f,H)\n",
    "            \n",
    "    z=[]\n",
    "    for i in range (0,A+2):\n",
    "        for j in range (0,B+2):\n",
    "            if(i>0 and j>0 and i<(A+1) and j<(B+1)):\n",
    "                z.append(g[i,j])\n",
    "\n",
    "    z=np.array(z)\n",
    "    z=z.reshape(A,B)\n",
    "    b.append(z)"
   ]
  },
  {
   "cell_type": "code",
   "execution_count": 6,
   "id": "eight-celebrity",
   "metadata": {},
   "outputs": [
    {
     "data": {
      "text/plain": [
       "array([[ 0,  1,  0],\n",
       "       [ 0, -2,  0],\n",
       "       [ 0,  1,  0]])"
      ]
     },
     "execution_count": 6,
     "metadata": {},
     "output_type": "execute_result"
    }
   ],
   "source": [
    "# Kernel 2\n",
    "\n",
    "fyy=np.array([[0,1,0],[0,-2,0],[0,1,0]])\n",
    "fyy"
   ]
  },
  {
   "cell_type": "code",
   "execution_count": 7,
   "id": "sudden-catering",
   "metadata": {},
   "outputs": [],
   "source": [
    "# Convolution between all frames in list 'a' and kernel 2.\n",
    "# Storing the new frames after convolution in list 'd'\n",
    "\n",
    "d=[]\n",
    "for m in range(0,100):\n",
    "    image_padded_o = np.zeros((A+2, B+2))\n",
    "    image_padded_o[1:-1,1:-1] = a[m]\n",
    "\n",
    "    f_o = np.zeros((9))\n",
    "    g_o = np.zeros((A+2,B+2))\n",
    "    H_o = fyy.reshape((9,1))\n",
    "    for i in range(1,((A+2)-1)):\n",
    "        for j in range(1,((B+2)-1)):\n",
    "            c=0\n",
    "            for x in range (i-1,i+1+1):\n",
    "                for y in range (j-1,j+1+1):\n",
    "                    f_o[c] = image_padded_o[x,y]\n",
    "                    c=c+1\n",
    "            g_o[i,j] = np.dot(f_o,H_o)\n",
    "            \n",
    "    z_o=[]\n",
    "    for i in range (0,A+2):\n",
    "        for j in range (0,B+2):\n",
    "            if(i>0 and j>0 and i<(A+1) and j<(B+1)):\n",
    "                z_o.append(g_o[i,j])\n",
    "\n",
    "    z_o=np.array(z_o)\n",
    "    z_o=z_o.reshape(A,B)\n",
    "    d.append(z_o)"
   ]
  },
  {
   "cell_type": "code",
   "execution_count": 8,
   "id": "acute-creativity",
   "metadata": {},
   "outputs": [],
   "source": [
    "# To find the Modified Laplacian.\n",
    "# Storing all the frames in list 'ML'\n",
    "\n",
    "ML=[]\n",
    "for m in range(0,100):\n",
    "    ML.append(abs(b[m])+abs(d[m]))"
   ]
  },
  {
   "cell_type": "code",
   "execution_count": 9,
   "id": "proprietary-smoke",
   "metadata": {},
   "outputs": [],
   "source": [
    "# Considering q = 2\n",
    "# To find Sumed modified Laplacian (SML)\n",
    "\n",
    "q = 2\n",
    "SML=[]\n",
    "for p in range (0,100):\n",
    "    \n",
    "    image_padded = np.zeros((A+(2*q), B+(2*q)))\n",
    "    image_padded[q:-q,q:-q] = ML[p]\n",
    "    \n",
    "    g = np.zeros((A+(2*q),B+(2*q)))\n",
    "    for i in range(q,((A+(2*q))-q)):\n",
    "        for j in range(q,((B+(2*q))-q)):\n",
    "            c=0\n",
    "            for x in range (i-q,i+q+1):\n",
    "                for y in range (j-q,j+q+1):\n",
    "                    c = c + image_padded[x,y]\n",
    "            g[i,j] = c\n",
    "            \n",
    "    k=[]\n",
    "    for i in range (0,A+(2*q)):\n",
    "        for j in range (0,B+(2*q)):\n",
    "            if(i>(q-1) and j>(q-1) and i<(A+q) and j<(A+q)):\n",
    "                k.append(g[i,j])\n",
    "\n",
    "    k=np.array(k)\n",
    "    k=k.reshape(A,B)\n",
    "    SML.append(k)"
   ]
  },
  {
   "cell_type": "code",
   "execution_count": 10,
   "id": "improving-bandwidth",
   "metadata": {},
   "outputs": [],
   "source": [
    "# Gaussian Interpolation to find d_bar\n",
    "# Storing all d_bars in a list 'D_BAR'\n",
    "\n",
    "D_BAR=[]\n",
    "for s in range (0,A):\n",
    "    for t in range (0,B):\n",
    "        FM2=0\n",
    "        fi2=0\n",
    "        for i in range (0,100):\n",
    "            if(SML[i][s,t]>FM2):\n",
    "                FM2=SML[i][s,t]\n",
    "                fi2=i\n",
    "        dm2 = fi2*50.50\n",
    "        dm1=(dm2 - 50.50)\n",
    "        fi1=(dm2 - 50.50)/50.50\n",
    "        FM1=SML[int(fi1)][s,t]\n",
    "        dm3=(dm2 + 50.50)\n",
    "        fi3=(dm2 + 50.50)/50.50\n",
    "\n",
    "        if(fi3==100):\n",
    "            d_bar = dm2\n",
    "            D_BAR.append(d_bar)\n",
    "            \n",
    "        else:\n",
    "            FM3=SML[int(fi3)][s,t]\n",
    "            d_bar = (((math.log(FM2)-math.log(FM1))*((dm3*dm3)-(dm2*dm2)))-((math.log(FM2)-math.log(FM3))*((dm1*dm1)-(dm2*dm2))))/(2*50.50*(2*math.log(FM2)-math.log(FM3)-math.log(FM1)))\n",
    "            D_BAR.append(d_bar)\n",
    "            \n",
    "D_BAR=np.array(D_BAR)\n",
    "D_BAR=D_BAR.reshape(A,B)"
   ]
  },
  {
   "cell_type": "code",
   "execution_count": 11,
   "id": "rocky-spotlight",
   "metadata": {},
   "outputs": [],
   "source": [
    "# Libraries to plot 3D graph\n",
    "\n",
    "import matplotlib.pyplot as plt\n",
    "from mpl_toolkits.mplot3d import Axes3D"
   ]
  },
  {
   "cell_type": "code",
   "execution_count": 12,
   "id": "competent-shape",
   "metadata": {},
   "outputs": [
    {
     "data": {
      "image/png": "[encoded data removed]",
      "text/plain": [
       "<Figure size 432x288 with 1 Axes>"
      ]
     },
     "metadata": {
      "needs_background": "light"
     },
     "output_type": "display_data"
    }
   ],
   "source": [
    "# Plot 3D graph\n",
    "\n",
    "ny, nx = D_BAR.shape\n",
    "x = np.linspace(0, 1, nx)\n",
    "y = np.linspace(0, 1, ny)\n",
    "xv, yv = np.meshgrid(x, y)\n",
    "\n",
    "fig = plt.figure()\n",
    "ax = fig.add_subplot(111, projection='3d')\n",
    "dem3d=ax.plot_surface(xv,yv,D_BAR)\n",
    "plt.show()"
   ]
  },
  {
   "cell_type": "code",
   "execution_count": 13,
   "id": "emotional-spare",
   "metadata": {},
   "outputs": [],
   "source": [
    "# Save the Plot\n",
    "# fig.savefig('q_2.png')"
   ]
  }
 ],
 "metadata": {
  "kernelspec": {
   "display_name": "Python 3",
   "language": "python",
   "name": "python3"
  },
  "language_info": {
   "codemirror_mode": {
    "name": "ipython",
    "version": 3
   },
   "file_extension": ".py",
   "mimetype": "text/x-python",
   "name": "python",
   "nbconvert_exporter": "python",
   "pygments_lexer": "ipython3",
   "version": "3.9.1"
  }
 },
 "nbformat": 4,
 "nbformat_minor": 5
}
